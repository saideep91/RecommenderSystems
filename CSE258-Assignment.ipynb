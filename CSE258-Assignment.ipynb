{
 "cells": [
  {
   "cell_type": "code",
   "execution_count": 2,
   "metadata": {},
   "outputs": [],
   "source": [
    "import numpy\n",
    "import urllib\n",
    "import scipy.optimize\n",
    "import random\n",
    "from collections import defaultdict\n",
    "import nltk\n",
    "import string\n",
    "from nltk.stem.porter import *\n",
    "from sklearn import linear_model\n",
    "import xgboost as xgb"
   ]
  },
  {
   "cell_type": "code",
   "execution_count": 188,
   "metadata": {},
   "outputs": [
    {
     "name": "stdout",
     "output_type": "stream",
     "text": [
      "{\"short_description\": \"She left her husband. He killed their children. Just another day in America.\", \"headline\": \"There Were 2 Mass Shootings In Texas Last Week, But Only 1 On TV\", \"date\": \"2018-05-26\", \"link\": \"https://www.huffingtonpost.com/entry/texas-amanda-painter-mass-shooting_us_5b081ab4e4b0802d69caad89\", \"authors\": \"Melissa Jeltsen\", \"category\": \"CRIME\"}\r\n",
      "\n"
     ]
    }
   ],
   "source": [
    "for l in open('News_Category_Dataset.json'):\n",
    "    print l\n",
    "    break"
   ]
  },
  {
   "cell_type": "code",
   "execution_count": 10,
   "metadata": {},
   "outputs": [],
   "source": [
    "def readjson(f):\n",
    "  for l in open(f):\n",
    "    yield eval(l)"
   ]
  },
  {
   "cell_type": "code",
   "execution_count": 90,
   "metadata": {},
   "outputs": [],
   "source": [
    "data=readjson('News_Category_Dataset.json')\n",
    "data=list(data)"
   ]
  },
  {
   "cell_type": "code",
   "execution_count": 12,
   "metadata": {},
   "outputs": [],
   "source": [
    "wordCount = defaultdict(int)\n",
    "for d in data:\n",
    "  for w in d['short_description'].split():\n",
    "    wordCount[w] += 1"
   ]
  },
  {
   "cell_type": "code",
   "execution_count": 16,
   "metadata": {},
   "outputs": [
    {
     "name": "stdout",
     "output_type": "stream",
     "text": [
      "138027\n"
     ]
    }
   ],
   "source": [
    "print len(wordCount)"
   ]
  },
  {
   "cell_type": "code",
   "execution_count": 17,
   "metadata": {},
   "outputs": [],
   "source": [
    "wordCount = defaultdict(int)\n",
    "punctuation = set(string.punctuation)\n",
    "stemmer = PorterStemmer()\n",
    "for d in data:\n",
    "  r = ''.join([c for c in d['short_description'].lower() if not c in punctuation])\n",
    "  for w in r.split():\n",
    "    #w = stemmer.stem(w) # with stemming\n",
    "    wordCount[w] += 1"
   ]
  },
  {
   "cell_type": "code",
   "execution_count": 34,
   "metadata": {},
   "outputs": [],
   "source": [
    "wordCount = defaultdict(int)\n",
    "punctuation = set(string.punctuation)\n",
    "for d in data:\n",
    "  r = ''.join([c for c in d['short_description'].lower() if not c in punctuation])\n",
    "  for w in r.split():\n",
    "    wordCount[w] += 1\n",
    "\n",
    "counts = [(wordCount[w], w) for w in wordCount]\n",
    "counts.sort()\n",
    "counts.reverse()"
   ]
  },
  {
   "cell_type": "code",
   "execution_count": 35,
   "metadata": {},
   "outputs": [],
   "source": [
    "words = [x[1] for x in counts[:1000]]"
   ]
  },
  {
   "cell_type": "code",
   "execution_count": 83,
   "metadata": {},
   "outputs": [],
   "source": [
    "wordId = dict(zip(words, range(len(words))))\n",
    "wordSet = set(words)\n",
    "\n",
    "def feature(datum):\n",
    "  feat = [0]*len(words)\n",
    "  r = ''.join([c for c in datum['short_description'].lower() if not c in punctuation])\n",
    "  for w in r.split():\n",
    "    if w in words:\n",
    "      feat[wordId[w]] += 1\n",
    "  feat.append(1) #offset\n",
    "  return feat\n"
   ]
  },
  {
   "cell_type": "code",
   "execution_count": 91,
   "metadata": {},
   "outputs": [],
   "source": [
    "X = [feature(d) for d in data]\n",
    "y = [d['category'] for d in data]"
   ]
  },
  {
   "cell_type": "code",
   "execution_count": 92,
   "metadata": {},
   "outputs": [
    {
     "data": {
      "text/plain": [
       "124989"
      ]
     },
     "execution_count": 92,
     "metadata": {},
     "output_type": "execute_result"
    }
   ],
   "source": [
    "len(y)"
   ]
  },
  {
   "cell_type": "code",
   "execution_count": 93,
   "metadata": {},
   "outputs": [
    {
     "data": {
      "text/plain": [
       "124989"
      ]
     },
     "execution_count": 93,
     "metadata": {},
     "output_type": "execute_result"
    }
   ],
   "source": [
    "len(X)"
   ]
  },
  {
   "cell_type": "code",
   "execution_count": 95,
   "metadata": {},
   "outputs": [
    {
     "data": {
      "text/plain": [
       "31"
      ]
     },
     "execution_count": 95,
     "metadata": {},
     "output_type": "execute_result"
    }
   ],
   "source": [
    "len(list(set(y)))"
   ]
  },
  {
   "cell_type": "code",
   "execution_count": 114,
   "metadata": {},
   "outputs": [],
   "source": [
    "def label2onehot(lbl):\n",
    "    d = numpy.zeros(( max(lbl) + 1, len(lbl) ))\n",
    "    d[lbl, numpy.arange(0, len(lbl) )] = 1\n",
    "    return d"
   ]
  },
  {
   "cell_type": "code",
   "execution_count": 100,
   "metadata": {},
   "outputs": [],
   "source": [
    "ylabel_id = dict(zip(list(set(y)), range(31)) )"
   ]
  },
  {
   "cell_type": "code",
   "execution_count": 101,
   "metadata": {},
   "outputs": [
    {
     "data": {
      "text/plain": [
       "{'ARTS': 7,\n",
       " 'ARTS & CULTURE': 19,\n",
       " 'BLACK VOICES': 25,\n",
       " 'BUSINESS': 0,\n",
       " 'COLLEGE': 27,\n",
       " 'COMEDY': 12,\n",
       " 'CRIME': 2,\n",
       " 'EDUCATION': 29,\n",
       " 'ENTERTAINMENT': 1,\n",
       " 'FIFTY': 8,\n",
       " 'GOOD NEWS': 15,\n",
       " 'GREEN': 28,\n",
       " 'HEALTHY LIVING': 30,\n",
       " 'IMPACT': 6,\n",
       " 'LATINO VOICES': 4,\n",
       " 'MEDIA': 16,\n",
       " 'PARENTS': 3,\n",
       " 'POLITICS': 5,\n",
       " 'QUEER VOICES': 21,\n",
       " 'RELIGION': 9,\n",
       " 'SCIENCE': 11,\n",
       " 'SPORTS': 23,\n",
       " 'STYLE': 14,\n",
       " 'TASTE': 24,\n",
       " 'TECH': 10,\n",
       " 'THE WORLDPOST': 22,\n",
       " 'TRAVEL': 20,\n",
       " 'WEIRD NEWS': 17,\n",
       " 'WOMEN': 13,\n",
       " 'WORLD NEWS': 18,\n",
       " 'WORLDPOST': 26}"
      ]
     },
     "execution_count": 101,
     "metadata": {},
     "output_type": "execute_result"
    }
   ],
   "source": [
    "ylabel_id"
   ]
  },
  {
   "cell_type": "code",
   "execution_count": 175,
   "metadata": {},
   "outputs": [],
   "source": [
    "dtrain=[ int(ylabel_id[d])  for d in y ]"
   ]
  },
  {
   "cell_type": "code",
   "execution_count": 115,
   "metadata": {},
   "outputs": [],
   "source": [
    "dtrain = label2onehot(ytrain)"
   ]
  },
  {
   "cell_type": "code",
   "execution_count": 162,
   "metadata": {},
   "outputs": [
    {
     "data": {
      "text/plain": [
       "30"
      ]
     },
     "execution_count": 162,
     "metadata": {},
     "output_type": "execute_result"
    }
   ],
   "source": [
    "max(ytrain)"
   ]
  },
  {
   "cell_type": "code",
   "execution_count": 133,
   "metadata": {},
   "outputs": [],
   "source": [
    "dtrain=dtrain.T"
   ]
  },
  {
   "cell_type": "code",
   "execution_count": 141,
   "metadata": {},
   "outputs": [
    {
     "data": {
      "text/plain": [
       "(124989, 31)"
      ]
     },
     "execution_count": 141,
     "metadata": {},
     "output_type": "execute_result"
    }
   ],
   "source": [
    "dtrain.shape"
   ]
  },
  {
   "cell_type": "code",
   "execution_count": 142,
   "metadata": {},
   "outputs": [
    {
     "data": {
      "text/plain": [
       "(124989, 1001)"
      ]
     },
     "execution_count": 142,
     "metadata": {},
     "output_type": "execute_result"
    }
   ],
   "source": [
    "X_all.shape"
   ]
  },
  {
   "cell_type": "code",
   "execution_count": 178,
   "metadata": {},
   "outputs": [],
   "source": [
    "X_all=numpy.array(X)\n",
    "dtrain=numpy.array(dtrain)"
   ]
  },
  {
   "cell_type": "code",
   "execution_count": 179,
   "metadata": {},
   "outputs": [],
   "source": [
    "Xtrain=X_all[0:int(0.8*len(X_all))]\n",
    "Xtest=X_all[int(0.8*len(X_all)):]"
   ]
  },
  {
   "cell_type": "code",
   "execution_count": 180,
   "metadata": {},
   "outputs": [],
   "source": [
    "ytrain=dtrain[0:int(0.8*len(dtrain))]\n",
    "ytest=dtrain[int(0.8*len(dtrain)):]"
   ]
  },
  {
   "cell_type": "code",
   "execution_count": 181,
   "metadata": {},
   "outputs": [
    {
     "name": "stdout",
     "output_type": "stream",
     "text": [
      "(99991, 1001)\n",
      "(24998, 1001)\n",
      "(99991,)\n",
      "(24998,)\n"
     ]
    }
   ],
   "source": [
    "print Xtrain.shape\n",
    "print Xtest.shape\n",
    "print ytrain.shape\n",
    "print ytest.shape"
   ]
  },
  {
   "cell_type": "code",
   "execution_count": 182,
   "metadata": {},
   "outputs": [],
   "source": [
    "xg_train = xgb.DMatrix(Xtrain, label=ytrain)\n",
    "xg_test = xgb.DMatrix(Xtest, label=ytest)"
   ]
  },
  {
   "cell_type": "code",
   "execution_count": 185,
   "metadata": {},
   "outputs": [],
   "source": [
    "param = {}\n",
    "# use softmax multi-class classification\n",
    "param['objective'] = 'multi:softmax'\n",
    "# scale weight of positive examples\n",
    "param['eta'] = 0.1\n",
    "param['max_depth'] = 6\n",
    "param['silent'] = 1\n",
    "param['nthread'] = 4\n",
    "param['num_class'] = 31"
   ]
  },
  {
   "cell_type": "code",
   "execution_count": 186,
   "metadata": {},
   "outputs": [
    {
     "data": {
      "text/plain": [
       "{'eta': 0.1,\n",
       " 'max_depth': 6,\n",
       " 'nthread': 4,\n",
       " 'num_class': 31,\n",
       " 'objective': 'multi:softmax',\n",
       " 'silent': 1}"
      ]
     },
     "execution_count": 186,
     "metadata": {},
     "output_type": "execute_result"
    }
   ],
   "source": [
    "num_round\n",
    "param"
   ]
  },
  {
   "cell_type": "code",
   "execution_count": 187,
   "metadata": {},
   "outputs": [
    {
     "name": "stderr",
     "output_type": "stream",
     "text": [
      "[0]\ttrain-merror:0.666750\ttest-merror:0.817705\n",
      "[1]\ttrain-merror:0.662220\ttest-merror:0.817305\n",
      "[2]\ttrain-merror:0.659349\ttest-merror:0.815425\n",
      "[3]\ttrain-merror:0.657389\ttest-merror:0.815265\n",
      "[4]\ttrain-merror:0.655749\ttest-merror:0.814505\n",
      "[5]\ttrain-merror:0.653969\ttest-merror:0.812145\n",
      "[6]\ttrain-merror:0.651889\ttest-merror:0.811505\n",
      "[7]\ttrain-merror:0.651469\ttest-merror:0.811625\n",
      "[8]\ttrain-merror:0.651169\ttest-merror:0.811425\n",
      "[9]\ttrain-merror:0.649738\ttest-merror:0.811185\n",
      "[10]\ttrain-merror:0.648918\ttest-merror:0.810545\n",
      "[11]\ttrain-merror:0.647898\ttest-merror:0.810825\n",
      "[12]\ttrain-merror:0.647268\ttest-merror:0.810505\n",
      "[13]\ttrain-merror:0.646098\ttest-merror:0.810585\n",
      "[14]\ttrain-merror:0.645828\ttest-merror:0.809945\n",
      "[15]\ttrain-merror:0.644788\ttest-merror:0.809025\n",
      "[16]\ttrain-merror:0.644128\ttest-merror:0.808905\n",
      "[17]\ttrain-merror:0.643458\ttest-merror:0.808545\n",
      "[18]\ttrain-merror:0.642678\ttest-merror:0.808345\n",
      "[19]\ttrain-merror:0.642268\ttest-merror:0.807745\n",
      "[20]\ttrain-merror:0.641488\ttest-merror:0.807425\n",
      "[21]\ttrain-merror:0.640208\ttest-merror:0.807025\n",
      "[22]\ttrain-merror:0.639448\ttest-merror:0.806064\n",
      "[23]\ttrain-merror:0.639018\ttest-merror:0.805824\n",
      "[24]\ttrain-merror:0.638347\ttest-merror:0.806104\n",
      "[25]\ttrain-merror:0.637647\ttest-merror:0.805624\n",
      "[26]\ttrain-merror:0.636797\ttest-merror:0.805344\n",
      "[27]\ttrain-merror:0.636597\ttest-merror:0.804904\n",
      "[28]\ttrain-merror:0.635737\ttest-merror:0.804784\n",
      "[29]\ttrain-merror:0.634797\ttest-merror:0.804744\n",
      "[30]\ttrain-merror:0.634427\ttest-merror:0.804184\n",
      "[31]\ttrain-merror:0.633567\ttest-merror:0.803624\n",
      "[32]\ttrain-merror:0.632747\ttest-merror:0.802904\n",
      "[33]\ttrain-merror:0.632107\ttest-merror:0.802584\n",
      "[34]\ttrain-merror:0.631187\ttest-merror:0.802384\n",
      "[35]\ttrain-merror:0.630747\ttest-merror:0.802344\n",
      "[36]\ttrain-merror:0.629947\ttest-merror:0.802704\n",
      "[37]\ttrain-merror:0.629257\ttest-merror:0.802184\n",
      "[38]\ttrain-merror:0.628557\ttest-merror:0.801864\n",
      "[39]\ttrain-merror:0.627967\ttest-merror:0.801224\n",
      "[40]\ttrain-merror:0.627366\ttest-merror:0.801264\n",
      "[41]\ttrain-merror:0.626896\ttest-merror:0.800904\n",
      "[42]\ttrain-merror:0.626436\ttest-merror:0.800864\n",
      "[43]\ttrain-merror:0.625706\ttest-merror:0.800784\n",
      "[44]\ttrain-merror:0.625046\ttest-merror:0.800184\n",
      "[45]\ttrain-merror:0.624436\ttest-merror:0.799944\n",
      "[46]\ttrain-merror:0.624056\ttest-merror:0.799464\n",
      "[47]\ttrain-merror:0.623316\ttest-merror:0.799304\n",
      "[48]\ttrain-merror:0.622836\ttest-merror:0.798784\n",
      "[49]\ttrain-merror:0.622166\ttest-merror:0.798664\n",
      "[50]\ttrain-merror:0.621666\ttest-merror:0.798584\n",
      "[51]\ttrain-merror:0.621276\ttest-merror:0.798024\n",
      "[52]\ttrain-merror:0.620936\ttest-merror:0.797544\n",
      "[53]\ttrain-merror:0.620206\ttest-merror:0.797024\n",
      "[54]\ttrain-merror:0.619656\ttest-merror:0.796584\n",
      "[55]\ttrain-merror:0.619046\ttest-merror:0.796664\n",
      "[56]\ttrain-merror:0.618636\ttest-merror:0.796464\n",
      "[57]\ttrain-merror:0.617956\ttest-merror:0.795944\n",
      "[58]\ttrain-merror:0.617326\ttest-merror:0.795744\n",
      "[59]\ttrain-merror:0.616906\ttest-merror:0.795464\n",
      "[60]\ttrain-merror:0.616515\ttest-merror:0.795064\n",
      "[61]\ttrain-merror:0.615965\ttest-merror:0.794864\n",
      "[62]\ttrain-merror:0.615505\ttest-merror:0.794704\n",
      "[63]\ttrain-merror:0.615065\ttest-merror:0.794704\n",
      "[64]\ttrain-merror:0.614545\ttest-merror:0.794664\n",
      "[65]\ttrain-merror:0.614005\ttest-merror:0.793904\n",
      "[66]\ttrain-merror:0.613615\ttest-merror:0.794024\n",
      "[67]\ttrain-merror:0.613185\ttest-merror:0.793984\n",
      "[68]\ttrain-merror:0.612675\ttest-merror:0.793783\n",
      "[69]\ttrain-merror:0.612155\ttest-merror:0.793543\n",
      "[70]\ttrain-merror:0.611725\ttest-merror:0.793143\n",
      "[71]\ttrain-merror:0.611255\ttest-merror:0.792903\n",
      "[72]\ttrain-merror:0.610705\ttest-merror:0.792943\n",
      "[73]\ttrain-merror:0.610105\ttest-merror:0.792983\n",
      "[74]\ttrain-merror:0.609655\ttest-merror:0.792463\n",
      "[75]\ttrain-merror:0.609195\ttest-merror:0.791823\n",
      "[76]\ttrain-merror:0.608865\ttest-merror:0.791583\n",
      "[77]\ttrain-merror:0.608175\ttest-merror:0.791303\n",
      "[78]\ttrain-merror:0.607845\ttest-merror:0.791663\n",
      "[79]\ttrain-merror:0.607295\ttest-merror:0.791663\n",
      "[80]\ttrain-merror:0.607025\ttest-merror:0.791223\n",
      "[81]\ttrain-merror:0.606575\ttest-merror:0.790943\n",
      "[82]\ttrain-merror:0.606095\ttest-merror:0.790703\n",
      "[83]\ttrain-merror:0.605754\ttest-merror:0.790463\n",
      "[84]\ttrain-merror:0.605164\ttest-merror:0.790223\n",
      "[85]\ttrain-merror:0.604744\ttest-merror:0.790223\n",
      "[86]\ttrain-merror:0.604394\ttest-merror:0.789863\n",
      "[87]\ttrain-merror:0.603934\ttest-merror:0.789463\n",
      "[88]\ttrain-merror:0.603614\ttest-merror:0.789423\n",
      "[89]\ttrain-merror:0.603224\ttest-merror:0.789223\n",
      "[90]\ttrain-merror:0.602524\ttest-merror:0.788983\n",
      "[91]\ttrain-merror:0.602074\ttest-merror:0.788943\n",
      "[92]\ttrain-merror:0.601464\ttest-merror:0.788903\n",
      "[93]\ttrain-merror:0.601094\ttest-merror:0.788703\n",
      "[94]\ttrain-merror:0.600754\ttest-merror:0.788623\n",
      "[95]\ttrain-merror:0.600334\ttest-merror:0.788543\n",
      "[96]\ttrain-merror:0.600124\ttest-merror:0.788223\n",
      "[97]\ttrain-merror:0.599754\ttest-merror:0.787943\n",
      "[98]\ttrain-merror:0.599274\ttest-merror:0.787863\n"
     ]
    },
    {
     "name": "stdout",
     "output_type": "stream",
     "text": [
      "Test error using softmax = 0\n"
     ]
    },
    {
     "name": "stderr",
     "output_type": "stream",
     "text": [
      "[99]\ttrain-merror:0.598754\ttest-merror:0.787583\n"
     ]
    }
   ],
   "source": [
    "watchlist = [(xg_train, 'train'), (xg_test, 'test')]\n",
    "num_round = 100\n",
    "bst = xgb.train(param, xg_train, num_round, watchlist)\n",
    "# get prediction\n",
    "pred = bst.predict(xg_test)\n",
    "error_rate = numpy.sum(pred != ytest) / ytest.shape[0]\n",
    "print('Test error using softmax = {}'.format(error_rate))"
   ]
  },
  {
   "cell_type": "code",
   "execution_count": null,
   "metadata": {},
   "outputs": [],
   "source": []
  },
  {
   "cell_type": "code",
   "execution_count": null,
   "metadata": {},
   "outputs": [],
   "source": []
  },
  {
   "cell_type": "code",
   "execution_count": 6,
   "metadata": {},
   "outputs": [
    {
     "name": "stdout",
     "output_type": "stream",
     "text": [
      "{\"short_description\": \"She left her husband. He killed their children. Just another day in America.\", \"headline\": \"There Were 2 Mass Shootings In Texas Last Week, But Only 1 On TV\", \"date\": \"2018-05-26\", \"link\": \"https://www.huffingtonpost.com/entry/texas-amanda-painter-mass-shooting_us_5b081ab4e4b0802d69caad89\", \"authors\": \"Melissa Jeltsen\", \"category\": \"CRIME\"}\r\n",
      "\n"
     ]
    }
   ],
   "source": []
  },
  {
   "cell_type": "code",
   "execution_count": null,
   "metadata": {},
   "outputs": [],
   "source": []
  }
 ],
 "metadata": {
  "kernelspec": {
   "display_name": "Python 2",
   "language": "python",
   "name": "python2"
  },
  "language_info": {
   "codemirror_mode": {
    "name": "ipython",
    "version": 2
   },
   "file_extension": ".py",
   "mimetype": "text/x-python",
   "name": "python",
   "nbconvert_exporter": "python",
   "pygments_lexer": "ipython2",
   "version": "2.7.15"
  }
 },
 "nbformat": 4,
 "nbformat_minor": 2
}
