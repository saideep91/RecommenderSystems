{
 "cells": [
  {
   "cell_type": "code",
   "execution_count": 7,
   "metadata": {},
   "outputs": [],
   "source": [
    "import numpy\n",
    "import urllib\n",
    "import scipy.optimize\n",
    "import random\n",
    "from collections import defaultdict\n",
    "import nltk\n",
    "import string\n",
    "from nltk.stem.porter import *\n",
    "from sklearn import linear_model\n",
    "import xgboost as xgb\n",
    "from sklearn.metrics import accuracy_score ,confusion_matrix\n",
    "import keras\n",
    "from keras.models import Sequential\n",
    "from keras.layers import Dense, Dropout, Activation\n",
    "from keras.optimizers import SGD\n",
    "import numpy as np\n",
    "import tensorflow as tf"
   ]
  },
  {
   "cell_type": "code",
   "execution_count": 5,
   "metadata": {},
   "outputs": [
    {
     "name": "stdout",
     "output_type": "stream",
     "text": [
      "[name: \"/device:CPU:0\"\n",
      "device_type: \"CPU\"\n",
      "memory_limit: 268435456\n",
      "locality {\n",
      "}\n",
      "incarnation: 5661142971661548209\n",
      ", name: \"/device:GPU:0\"\n",
      "device_type: \"GPU\"\n",
      "memory_limit: 8028386100\n",
      "locality {\n",
      "  bus_id: 2\n",
      "}\n",
      "incarnation: 15074268260154570424\n",
      "physical_device_desc: \"device: 0, name: Quadro K5200, pci bus id: 0000:8a:00.0, compute capability: 3.5\"\n",
      "]\n"
     ]
    }
   ],
   "source": [
    "from tensorflow.python.client import device_lib\n",
    "print(device_lib.list_local_devices())"
   ]
  },
  {
   "cell_type": "code",
   "execution_count": 8,
   "metadata": {},
   "outputs": [],
   "source": [
    "config = tf.ConfigProto( device_count = {'GPU': 1 , 'CPU': 56} ) \n",
    "sess = tf.Session(config=config) \n",
    "keras.backend.set_session(sess)"
   ]
  },
  {
   "cell_type": "code",
   "execution_count": 9,
   "metadata": {},
   "outputs": [],
   "source": [
    "def readjson(f):\n",
    "  for l in open(f):\n",
    "    yield eval(l)\n",
    "data=readjson('News_Category_Dataset.json')\n",
    "data=list(data)\n",
    "#h = readjson('News_Category_Dataset12.json')\n",
    "#h = list(h)\n",
    "#data = data+h\n",
    "import nltk\n",
    "from nltk.corpus import stopwords\n",
    "sw = set(stopwords.words('english'))"
   ]
  },
  {
   "cell_type": "code",
   "execution_count": 10,
   "metadata": {},
   "outputs": [],
   "source": [
    "w = [d['headline']+d['authors']+d['short_description'] for d in data]\n",
    "#w = w + [d['headline']+d['authors']+d['long_description'] for d in h]"
   ]
  },
  {
   "cell_type": "code",
   "execution_count": 11,
   "metadata": {},
   "outputs": [],
   "source": [
    "from sklearn.feature_extraction.text import TfidfVectorizer\n",
    "tfidf=TfidfVectorizer(analyzer = \"word\", max_features=3000, stop_words=sw)\n",
    "X = tfidf.fit_transform(w).toarray()  "
   ]
  },
  {
   "cell_type": "code",
   "execution_count": 12,
   "metadata": {},
   "outputs": [
    {
     "data": {
      "text/plain": [
       "124989"
      ]
     },
     "execution_count": 12,
     "metadata": {},
     "output_type": "execute_result"
    }
   ],
   "source": [
    "y = [d['category'] for d in data]\n",
    "len(y)"
   ]
  },
  {
   "cell_type": "code",
   "execution_count": null,
   "metadata": {},
   "outputs": [],
   "source": []
  },
  {
   "cell_type": "code",
   "execution_count": 13,
   "metadata": {},
   "outputs": [],
   "source": [
    "ylabel_id = dict(zip(list(set(y)), range(31)) )\n",
    "dtrain=[ int(ylabel_id[d])  for d in y ]"
   ]
  },
  {
   "cell_type": "code",
   "execution_count": 14,
   "metadata": {},
   "outputs": [],
   "source": [
    "dtrain=np.array(dtrain)"
   ]
  },
  {
   "cell_type": "code",
   "execution_count": 15,
   "metadata": {},
   "outputs": [
    {
     "data": {
      "text/plain": [
       "(124989,)"
      ]
     },
     "execution_count": 15,
     "metadata": {},
     "output_type": "execute_result"
    }
   ],
   "source": [
    "dtrain.shape"
   ]
  },
  {
   "cell_type": "code",
   "execution_count": 16,
   "metadata": {},
   "outputs": [],
   "source": [
    "y=keras.utils.to_categorical(dtrain, num_classes=31)"
   ]
  },
  {
   "cell_type": "code",
   "execution_count": 17,
   "metadata": {},
   "outputs": [
    {
     "name": "stdout",
     "output_type": "stream",
     "text": [
      "(124989, 3000)\n",
      "(124989, 31)\n"
     ]
    }
   ],
   "source": [
    "print X.shape\n",
    "print y.shape"
   ]
  },
  {
   "cell_type": "code",
   "execution_count": 18,
   "metadata": {},
   "outputs": [],
   "source": [
    "from sklearn.model_selection import train_test_split  \n",
    "X_train, X_test, y_train, y_test = train_test_split(X, y, test_size=0.2, random_state=0) "
   ]
  },
  {
   "cell_type": "code",
   "execution_count": 18,
   "metadata": {},
   "outputs": [
    {
     "data": {
      "text/plain": [
       "'2.2.4'"
      ]
     },
     "execution_count": 18,
     "metadata": {},
     "output_type": "execute_result"
    }
   ],
   "source": [
    "keras.__version__"
   ]
  },
  {
   "cell_type": "code",
   "execution_count": null,
   "metadata": {},
   "outputs": [],
   "source": []
  },
  {
   "cell_type": "code",
   "execution_count": 19,
   "metadata": {},
   "outputs": [
    {
     "name": "stdout",
     "output_type": "stream",
     "text": [
      "Epoch 1/50\n",
      "99991/99991 [==============================] - 8s 76us/step - loss: 2.9070 - acc: 0.2612\n",
      "Epoch 2/50\n",
      "99991/99991 [==============================] - 7s 67us/step - loss: 2.6600 - acc: 0.3249\n",
      "Epoch 3/50\n",
      "99991/99991 [==============================] - 7s 67us/step - loss: 2.4869 - acc: 0.3622\n",
      "Epoch 4/50\n",
      "99991/99991 [==============================] - 7s 66us/step - loss: 2.2791 - acc: 0.4101\n",
      "Epoch 5/50\n",
      "99991/99991 [==============================] - 7s 66us/step - loss: 2.0697 - acc: 0.4533\n",
      "Epoch 6/50\n",
      "99991/99991 [==============================] - 7s 66us/step - loss: 1.9034 - acc: 0.4941\n",
      "Epoch 7/50\n",
      "99991/99991 [==============================] - 7s 66us/step - loss: 1.7730 - acc: 0.5247\n",
      "Epoch 8/50\n",
      "99991/99991 [==============================] - 7s 67us/step - loss: 1.6736 - acc: 0.5475\n",
      "Epoch 9/50\n",
      "99991/99991 [==============================] - 6s 64us/step - loss: 1.5950 - acc: 0.5655\n",
      "Epoch 10/50\n",
      "99991/99991 [==============================] - 7s 66us/step - loss: 1.5275 - acc: 0.5789\n",
      "Epoch 11/50\n",
      "99991/99991 [==============================] - 7s 67us/step - loss: 1.4768 - acc: 0.5887\n",
      "Epoch 12/50\n",
      "99991/99991 [==============================] - 7s 66us/step - loss: 1.4301 - acc: 0.5987\n",
      "Epoch 13/50\n",
      "99991/99991 [==============================] - 7s 66us/step - loss: 1.3938 - acc: 0.6073\n",
      "Epoch 14/50\n",
      "99991/99991 [==============================] - 7s 67us/step - loss: 1.3604 - acc: 0.6137\n",
      "Epoch 15/50\n",
      "99991/99991 [==============================] - 7s 67us/step - loss: 1.3275 - acc: 0.6225\n",
      "Epoch 16/50\n",
      "99991/99991 [==============================] - 7s 66us/step - loss: 1.2974 - acc: 0.6289\n",
      "Epoch 17/50\n",
      "99991/99991 [==============================] - 7s 66us/step - loss: 1.2698 - acc: 0.6350\n",
      "Epoch 18/50\n",
      "99991/99991 [==============================] - 7s 66us/step - loss: 1.2449 - acc: 0.6405\n",
      "Epoch 19/50\n",
      "99991/99991 [==============================] - 6s 65us/step - loss: 1.2204 - acc: 0.6456\n",
      "Epoch 20/50\n",
      "99991/99991 [==============================] - 7s 65us/step - loss: 1.1957 - acc: 0.6513\n",
      "Epoch 21/50\n",
      "99991/99991 [==============================] - 7s 66us/step - loss: 1.1702 - acc: 0.6587\n",
      "Epoch 22/50\n",
      "99991/99991 [==============================] - 7s 67us/step - loss: 1.1469 - acc: 0.6628\n",
      "Epoch 23/50\n",
      "99991/99991 [==============================] - 7s 66us/step - loss: 1.1241 - acc: 0.6703\n",
      "Epoch 24/50\n",
      "99991/99991 [==============================] - 6s 64us/step - loss: 1.1009 - acc: 0.6773\n",
      "Epoch 25/50\n",
      "99991/99991 [==============================] - 7s 66us/step - loss: 1.0772 - acc: 0.6811\n",
      "Epoch 26/50\n",
      "99991/99991 [==============================] - 7s 67us/step - loss: 1.0550 - acc: 0.6854\n",
      "Epoch 27/50\n",
      "99991/99991 [==============================] - 7s 66us/step - loss: 1.0309 - acc: 0.6919\n",
      "Epoch 28/50\n",
      "99991/99991 [==============================] - 7s 67us/step - loss: 1.0052 - acc: 0.6986\n",
      "Epoch 29/50\n",
      "99991/99991 [==============================] - 7s 66us/step - loss: 0.9831 - acc: 0.7046\n",
      "Epoch 30/50\n",
      "99991/99991 [==============================] - 7s 66us/step - loss: 0.9560 - acc: 0.7123\n",
      "Epoch 31/50\n",
      "99991/99991 [==============================] - 7s 66us/step - loss: 0.9361 - acc: 0.7177\n",
      "Epoch 32/50\n",
      "99991/99991 [==============================] - 7s 66us/step - loss: 0.9064 - acc: 0.7254\n",
      "Epoch 33/50\n",
      "99991/99991 [==============================] - 7s 67us/step - loss: 0.8813 - acc: 0.7328\n",
      "Epoch 34/50\n",
      "99991/99991 [==============================] - 7s 66us/step - loss: 0.8546 - acc: 0.7404\n",
      "Epoch 35/50\n",
      "99991/99991 [==============================] - 7s 67us/step - loss: 0.8320 - acc: 0.7466\n",
      "Epoch 36/50\n",
      "99991/99991 [==============================] - 7s 66us/step - loss: 0.8072 - acc: 0.7538\n",
      "Epoch 37/50\n",
      "99991/99991 [==============================] - 7s 66us/step - loss: 0.7784 - acc: 0.7624\n",
      "Epoch 38/50\n",
      "99991/99991 [==============================] - 7s 65us/step - loss: 0.7554 - acc: 0.7684\n",
      "Epoch 39/50\n",
      "99991/99991 [==============================] - 7s 66us/step - loss: 0.7297 - acc: 0.7756\n",
      "Epoch 40/50\n",
      "99991/99991 [==============================] - 7s 66us/step - loss: 0.6988 - acc: 0.7851\n",
      "Epoch 41/50\n",
      "99991/99991 [==============================] - 7s 66us/step - loss: 0.6774 - acc: 0.7921\n",
      "Epoch 42/50\n",
      "99991/99991 [==============================] - 7s 65us/step - loss: 0.6554 - acc: 0.7990\n",
      "Epoch 43/50\n",
      "99991/99991 [==============================] - 7s 66us/step - loss: 0.6263 - acc: 0.8073\n",
      "Epoch 44/50\n",
      "99991/99991 [==============================] - 7s 67us/step - loss: 0.6069 - acc: 0.8105\n",
      "Epoch 45/50\n",
      "99991/99991 [==============================] - 7s 66us/step - loss: 0.5840 - acc: 0.8194\n",
      "Epoch 46/50\n",
      "99991/99991 [==============================] - 7s 68us/step - loss: 0.5578 - acc: 0.8287\n",
      "Epoch 47/50\n",
      "99991/99991 [==============================] - 7s 67us/step - loss: 0.5392 - acc: 0.8326\n",
      "Epoch 48/50\n",
      "99991/99991 [==============================] - 7s 66us/step - loss: 0.5129 - acc: 0.8421\n",
      "Epoch 49/50\n",
      "99991/99991 [==============================] - 7s 67us/step - loss: 0.4950 - acc: 0.8484\n",
      "Epoch 50/50\n",
      "99991/99991 [==============================] - 7s 66us/step - loss: 0.4737 - acc: 0.8530\n",
      "24998/24998 [==============================] - 1s 31us/step\n",
      "[1.611520606047135, 0.6046083686361123]\n"
     ]
    }
   ],
   "source": [
    "model = Sequential()\n",
    "# Dense(64) is a fully-connected layer with 64 hidden units.\n",
    "# in the first layer, you must specify the expected input data shape:\n",
    "# here, 20-dimensional vectors.\n",
    "model.add(Dense(1024, activation='relu', input_dim=3000))\n",
    "model.add(Dropout(0.5))\n",
    "model.add(Dense(1024, activation='relu'))\n",
    "model.add(Dropout(0.5))\n",
    "#model.add(Dense(31, activation='softmax'))\n",
    "\n",
    "model.add(Dense(31))\n",
    "model.add(Activation(tf.nn.softmax))\n",
    "#tf.nn.softmax(x, dim=axis)\n",
    "#model.add(Activation('softmax'))\n",
    "\n",
    "sgd = SGD(lr=0.01, decay=1e-6, momentum=0.9, nesterov=True)\n",
    "model.compile(loss='categorical_crossentropy',\n",
    "              optimizer=sgd,\n",
    "              metrics=['accuracy'])\n",
    "\n",
    "model.fit(X_train, y_train,\n",
    "          epochs=50,\n",
    "          batch_size=128)\n",
    "score = model.evaluate(X_test, y_test, batch_size=128)\n",
    "print score"
   ]
  },
  {
   "cell_type": "code",
   "execution_count": 20,
   "metadata": {},
   "outputs": [
    {
     "name": "stdout",
     "output_type": "stream",
     "text": [
      "['loss', 'acc']\n",
      "[1.611520606047135, 0.6046083686361123]\n"
     ]
    }
   ],
   "source": [
    "print(model.metrics_names)\n",
    "print score"
   ]
  },
  {
   "cell_type": "code",
   "execution_count": null,
   "metadata": {},
   "outputs": [],
   "source": []
  }
 ],
 "metadata": {
  "kernelspec": {
   "display_name": "Python 2",
   "language": "python",
   "name": "python2"
  },
  "language_info": {
   "codemirror_mode": {
    "name": "ipython",
    "version": 2
   },
   "file_extension": ".py",
   "mimetype": "text/x-python",
   "name": "python",
   "nbconvert_exporter": "python",
   "pygments_lexer": "ipython2",
   "version": "2.7.14"
  }
 },
 "nbformat": 4,
 "nbformat_minor": 2
}
